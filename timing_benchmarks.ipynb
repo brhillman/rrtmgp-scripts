{
 "cells": [
  {
   "cell_type": "code",
   "execution_count": 146,
   "metadata": {},
   "outputs": [],
   "source": [
    "%matplotlib inline\n",
    "import numpy\n",
    "from matplotlib import pyplot\n",
    "from glob import glob"
   ]
  },
  {
   "cell_type": "code",
   "execution_count": 147,
   "metadata": {},
   "outputs": [],
   "source": [
    "files = {a: sorted(glob(f'timing_data/{a}_timing_*')) for a in ('gpu', 'cpu')}"
   ]
  },
  {
   "cell_type": "code",
   "execution_count": 148,
   "metadata": {
    "scrolled": false
   },
   "outputs": [
    {
     "data": {
      "text/plain": [
       "{'gpu': ['timing_data/gpu_timing_0100.txt',\n",
       "  'timing_data/gpu_timing_0150.txt',\n",
       "  'timing_data/gpu_timing_0200.txt',\n",
       "  'timing_data/gpu_timing_0250.txt',\n",
       "  'timing_data/gpu_timing_0300.txt',\n",
       "  'timing_data/gpu_timing_0350.txt',\n",
       "  'timing_data/gpu_timing_0400.txt',\n",
       "  'timing_data/gpu_timing_0450.txt',\n",
       "  'timing_data/gpu_timing_0500.txt',\n",
       "  'timing_data/gpu_timing_0550.txt',\n",
       "  'timing_data/gpu_timing_0600.txt',\n",
       "  'timing_data/gpu_timing_0650.txt',\n",
       "  'timing_data/gpu_timing_0700.txt',\n",
       "  'timing_data/gpu_timing_0750.txt',\n",
       "  'timing_data/gpu_timing_0800.txt',\n",
       "  'timing_data/gpu_timing_0850.txt',\n",
       "  'timing_data/gpu_timing_0900.txt',\n",
       "  'timing_data/gpu_timing_0950.txt',\n",
       "  'timing_data/gpu_timing_1000.txt',\n",
       "  'timing_data/gpu_timing_1050.txt',\n",
       "  'timing_data/gpu_timing_1100.txt',\n",
       "  'timing_data/gpu_timing_1150.txt',\n",
       "  'timing_data/gpu_timing_1200.txt',\n",
       "  'timing_data/gpu_timing_1250.txt',\n",
       "  'timing_data/gpu_timing_1300.txt',\n",
       "  'timing_data/gpu_timing_1350.txt',\n",
       "  'timing_data/gpu_timing_1400.txt',\n",
       "  'timing_data/gpu_timing_1450.txt',\n",
       "  'timing_data/gpu_timing_1500.txt',\n",
       "  'timing_data/gpu_timing_1550.txt',\n",
       "  'timing_data/gpu_timing_1600.txt',\n",
       "  'timing_data/gpu_timing_1650.txt',\n",
       "  'timing_data/gpu_timing_1700.txt',\n",
       "  'timing_data/gpu_timing_1750.txt',\n",
       "  'timing_data/gpu_timing_1800.txt',\n",
       "  'timing_data/gpu_timing_1850.txt'],\n",
       " 'cpu': ['timing_data/cpu_timing_0100.txt',\n",
       "  'timing_data/cpu_timing_0150.txt',\n",
       "  'timing_data/cpu_timing_0200.txt',\n",
       "  'timing_data/cpu_timing_0250.txt',\n",
       "  'timing_data/cpu_timing_0300.txt',\n",
       "  'timing_data/cpu_timing_0350.txt',\n",
       "  'timing_data/cpu_timing_0400.txt',\n",
       "  'timing_data/cpu_timing_0450.txt',\n",
       "  'timing_data/cpu_timing_0500.txt',\n",
       "  'timing_data/cpu_timing_0550.txt',\n",
       "  'timing_data/cpu_timing_0600.txt',\n",
       "  'timing_data/cpu_timing_0650.txt',\n",
       "  'timing_data/cpu_timing_0700.txt',\n",
       "  'timing_data/cpu_timing_0750.txt',\n",
       "  'timing_data/cpu_timing_0800.txt',\n",
       "  'timing_data/cpu_timing_0850.txt',\n",
       "  'timing_data/cpu_timing_0900.txt',\n",
       "  'timing_data/cpu_timing_0950.txt',\n",
       "  'timing_data/cpu_timing_1000.txt',\n",
       "  'timing_data/cpu_timing_1050.txt',\n",
       "  'timing_data/cpu_timing_1100.txt',\n",
       "  'timing_data/cpu_timing_1150.txt',\n",
       "  'timing_data/cpu_timing_1200.txt',\n",
       "  'timing_data/cpu_timing_1250.txt',\n",
       "  'timing_data/cpu_timing_1300.txt',\n",
       "  'timing_data/cpu_timing_1350.txt',\n",
       "  'timing_data/cpu_timing_1400.txt',\n",
       "  'timing_data/cpu_timing_1450.txt',\n",
       "  'timing_data/cpu_timing_1500.txt',\n",
       "  'timing_data/cpu_timing_1550.txt',\n",
       "  'timing_data/cpu_timing_1600.txt',\n",
       "  'timing_data/cpu_timing_1650.txt',\n",
       "  'timing_data/cpu_timing_1700.txt',\n",
       "  'timing_data/cpu_timing_1750.txt',\n",
       "  'timing_data/cpu_timing_1800.txt',\n",
       "  'timing_data/cpu_timing_1850.txt']}"
      ]
     },
     "execution_count": 148,
     "metadata": {},
     "output_type": "execute_result"
    }
   ],
   "source": [
    "files"
   ]
  },
  {
   "cell_type": "code",
   "execution_count": 149,
   "metadata": {},
   "outputs": [],
   "source": [
    "import os\n",
    "def parse_timing_data(files):\n",
    "    timing_data = []\n",
    "    for file in files:\n",
    "        f = open(file, 'r')\n",
    "        timing = {}\n",
    "        ncol = int(os.path.splitext(file)[0].split('_')[-1])\n",
    "        for line in f.readlines():\n",
    "            if 'Run LW' in line:\n",
    "                current_band = 'LW'\n",
    "                timing['LW'] = []\n",
    "                timing['ncol'] = []\n",
    "            elif 'Run SW' in line:\n",
    "                current_band = 'SW'\n",
    "                timing['SW'] = []\n",
    "            elif 'total(s)' in line:\n",
    "                timing[current_band].append(float(line.split(':')[1]))\n",
    "                if current_band == 'LW': timing['ncol'].append(ncol)\n",
    "        timing_data.append(timing)\n",
    "    return timing_data"
   ]
  },
  {
   "cell_type": "code",
   "execution_count": 150,
   "metadata": {},
   "outputs": [],
   "source": [
    "timing_data = {a: parse_timing_data(files[a]) for a in files.keys()}"
   ]
  },
  {
   "cell_type": "code",
   "execution_count": 151,
   "metadata": {},
   "outputs": [
    {
     "data": {
      "text/plain": [
       "Text(0, 0.5, 'Execution time (s)')"
      ]
     },
     "execution_count": 151,
     "metadata": {},
     "output_type": "execute_result"
    },
    {
     "data": {
      "image/png": "[encoded data removed]",
      "text/plain": [
       "<Figure size 432x288 with 1 Axes>"
      ]
     },
     "metadata": {
      "needs_background": "light"
     },
     "output_type": "display_data"
    }
   ],
   "source": [
    "figure = pyplot.figure()\n",
    "ax = figure.add_subplot()\n",
    "colors = ('red', 'blue')\n",
    "markers = ('.', '+')\n",
    "flatten = lambda l: [item for sublist in l for item in sublist]\n",
    "for iarch, arch in enumerate(timing_data.keys()):\n",
    "    for iband, band in enumerate(('LW', 'SW')):\n",
    "        ncol = [t['ncol'] for t in timing_data[arch]]\n",
    "        vals = [t[band] for t in timing_data[arch]]\n",
    "        pl = ax.plot(\n",
    "            flatten(ncol), flatten(vals), color=colors[iband], \n",
    "            marker=markers[iarch], linestyle='none', label=f'{band} {arch}'\n",
    "        )\n",
    "        \n",
    "ax.legend()\n",
    "ax.set_xlabel('N')\n",
    "ax.set_ylabel('Execution time (s)')"
   ]
  },
  {
   "cell_type": "code",
   "execution_count": 211,
   "metadata": {},
   "outputs": [
    {
     "data": {
      "text/plain": [
       "(0, 10)"
      ]
     },
     "execution_count": 211,
     "metadata": {},
     "output_type": "execute_result"
    },
    {
     "data": {
      "image/png": "[encoded data removed]",
      "text/plain": [
       "<Figure size 432x288 with 2 Axes>"
      ]
     },
     "metadata": {
      "needs_background": "light"
     },
     "output_type": "display_data"
    }
   ],
   "source": [
    "figure = pyplot.figure()\n",
    "ax = figure.add_subplot()\n",
    "colors = {'LW': 'red', 'SW': 'blue', 'gpu': 'black', 'cpu': 'grey'}\n",
    "linestyles = {\n",
    "    'LW': 'solid', 'SW': 'solid', \n",
    "    'gpu': 'none', 'cpu': 'none'\n",
    "}\n",
    "markers = {\n",
    "    'cpu': '+', 'gpu': '.', \n",
    "    'LW': None, 'SW': None\n",
    "}\n",
    "plots = {}\n",
    "pls = []\n",
    "flatten = lambda l: [item for sublist in l for item in sublist]\n",
    "for iband, band in enumerate(('LW', 'SW')):\n",
    "    for iarch, arch in enumerate(timing_data.keys()):\n",
    "        ncol = [42 * numpy.array(t['ncol']) for t in timing_data[arch]]\n",
    "        vals = [t[band] for t in timing_data[arch]]\n",
    "        pl = ax.plot(\n",
    "            flatten(ncol), flatten(vals), color=colors[band], \n",
    "            marker=markers[arch], linestyle=linestyles[arch], label=f'{band} {arch}'\n",
    "        )\n",
    "        plots[f'{band} {arch}'] = pl.copy()\n",
    "        pls.append(pl)\n",
    "        \n",
    "    # Plot speedup\n",
    "    v1 = [numpy.mean(t[band]) for t in timing_data['cpu']]\n",
    "    v2 = [numpy.mean(t[band]) for t in timing_data['gpu']]\n",
    "    s = [c / g for (c, g) in zip(v1, v2)]\n",
    "    ncol = [42 * numpy.mean(t['ncol']) for t in timing_data['cpu']]\n",
    "    if iband == 0: ax2 = ax.twinx()\n",
    "    pl = ax2.plot(\n",
    "        ncol, s, \n",
    "        color=colors[band], \n",
    "        marker=markers[band],\n",
    "        linestyle=linestyles[band], \n",
    "        label=f'{band} speedup'\n",
    "    )\n",
    "    plots[f'{band} speed-up'] = pl.copy()\n",
    "    pls.append(pl)\n",
    "    \n",
    "#ax2.tick_params(axis='y', labelcolor='0.5')\n",
    "#ax2.legend()\n",
    "lines = [plots[c][0] for c in ('LW cpu', 'SW cpu', 'LW gpu', 'SW gpu', 'LW speed-up', 'SW speed-up', )]\n",
    "#labels = ('LW speed-up', 'SW speed-up', 'CPU', 'GPU')\n",
    "labels = [l.get_label() for l in lines]\n",
    "ax.legend(lines, labels, ncol=3, loc='upper left', columnspacing=1)\n",
    "ax.set_xlabel('Total workload per node (columns)')\n",
    "ax.set_ylabel('Execution time (s)')\n",
    "ax2.set_ylabel('Speedup')\n",
    "#ax2.legend(loc='best')\n",
    "ax.set_ylim(0, 10)"
   ]
  },
  {
   "cell_type": "code",
   "execution_count": 212,
   "metadata": {},
   "outputs": [],
   "source": [
    "figure.savefig('rrtmgp_timing.png', bbox_inches='tight')\n",
    "figure.savefig('rrtmgp_timing.pdf', bbox_inches='tight')"
   ]
  },
  {
   "cell_type": "code",
   "execution_count": null,
   "metadata": {},
   "outputs": [],
   "source": []
  }
 ],
 "metadata": {
  "kernelspec": {
   "display_name": "Python 3",
   "language": "python",
   "name": "python3"
  },
  "language_info": {
   "codemirror_mode": {
    "name": "ipython",
    "version": 3
   },
   "file_extension": ".py",
   "mimetype": "text/x-python",
   "name": "python",
   "nbconvert_exporter": "python",
   "pygments_lexer": "ipython3",
   "version": "3.8.1"
  }
 },
 "nbformat": 4,
 "nbformat_minor": 4
}
